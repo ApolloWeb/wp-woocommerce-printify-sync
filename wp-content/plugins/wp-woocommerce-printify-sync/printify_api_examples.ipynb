{
 "cells": [
  {
   "cell_type": "markdown",
   "id": "a960080b",
   "metadata": {},
   "source": [
    "# Printify API Integration Examples\n",
    "This notebook demonstrates how to interact with the Printify API using GuzzleHttp for WooCommerce integration."
   ]
  },
  {
   "cell_type": "code",
   "execution_count": null,
   "id": "326f8a7f",
   "metadata": {
    "vscode": {
     "languageId": "php"
    }
   },
   "outputs": [],
   "source": [
    "require 'vendor/autoload.php';\n",
    "\n",
    "use GuzzleHttp\\Client;\n",
    "use GuzzleHttp\\Exception\\GuzzleException;"
   ]
  },
  {
   "cell_type": "markdown",
   "id": "c22bddf7",
   "metadata": {},
   "source": [
    "## Client Setup\n",
    "Initialize GuzzleHttp client with Printify API configuration"
   ]
  },
  {
   "cell_type": "code",
   "execution_count": null,
   "id": "0cb7c74d",
   "metadata": {
    "vscode": {
     "languageId": "php"
    }
   },
   "outputs": [],
   "source": [
    "$client = new Client([\n",
    "    'base_uri' => 'https://api.printify.com/v1/',\n",
    "    'headers' => [\n",
    "        'Authorization' => 'Bearer ' . PRINTIFY_API_KEY,\n",
    "        'Accept' => 'application/json',\n",
    "    ]\n",
    "]);"
   ]
  },
  {
   "cell_type": "markdown",
   "id": "a67e6788",
   "metadata": {},
   "source": [
    "## Working with Shops\n",
    "Examples of interacting with shop endpoints"
   ]
  },
  {
   "cell_type": "code",
   "execution_count": null,
   "id": "a721288d",
   "metadata": {},
   "outputs": [],
   "source": [
    "def get_shops():\n",
    "    \"\"\"Retrieve all shops associated with the account\"\"\"\n",
    "    response = requests.get(f\"{BASE_URL}/shops\", headers=headers)\n",
    "    return response.json()\n",
    "\n",
    "def get_shop_details(shop_id):\n",
    "    \"\"\"Get detailed information about a specific shop\"\"\"\n",
    "    response = requests.get(f\"{BASE_URL}/shops/{shop_id}\", headers=headers)\n",
    "    return response.json()"
   ]
  },
  {
   "cell_type": "markdown",
   "id": "797cabd3",
   "metadata": {},
   "source": [
    "## Product Import Methods\n",
    "Methods for managing product synchronization"
   ]
  },
  {
   "cell_type": "code",
   "execution_count": null,
   "id": "1939e9e4",
   "metadata": {
    "vscode": {
     "languageId": "php"
    }
   },
   "outputs": [],
   "source": [
    "function getAllProducts($client, $shopId) {\n",
    "    try {\n",
    "        $response = $client->get(\"shops/{$shopId}/products.json\");\n",
    "        return json_decode($response->getBody()->getContents(), true);\n",
    "    } catch (GuzzleException $e) {\n",
    "        throw new Exception('Failed to fetch products: ' . $e->getMessage());\n",
    "    }\n",
    "}\n",
    "\n",
    "function importProductToWooCommerce($client, $shopId, $printifyProduct) {\n",
    "    // Convert Printify product to WooCommerce format\n",
    "    $product = [\n",
    "        'name' => $printifyProduct['title'],\n",
    "        'type' => 'variable',\n",
    "        'description' => $printifyProduct['description'],\n",
    "        'short_description' => $printifyProduct['description'],\n",
    "        'status' => 'publish',\n",
    "        'catalog_visibility' => 'visible',\n",
    "        'meta_data' => [\n",
    "            [\n",
    "                'key' => '_printify_product_id',\n",
    "                'value' => $printifyProduct['id']\n",
    "            ],\n",
    "            [\n",
    "                'key' => '_printify_shop_id',\n",
    "                'value' => $shopId\n",
    "            ]\n",
    "        ]\n",
    "    ];\n",
    "\n",
    "    // Create WooCommerce product\n",
    "    return wc_create_product($product);\n",
    "}\n",
    "\n",
    "function syncProductVariants($client, $shopId, $productId, $variants) {\n",
    "    foreach ($variants as $variant) {\n",
    "        try {\n",
    "            // Get detailed variant info\n",
    "            $response = $client->get(\"shops/{$shopId}/products/{$productId}/variants/{$variant['id']}.json\");\n",
    "            $variantData = json_decode($response->getBody()->getContents(), true);\n",
    "\n",
    "            // Create WooCommerce variant\n",
    "            createProductVariant($productId, $variantData);\n",
    "        } catch (GuzzleException $e) {\n",
    "            error_log('Failed to sync variant: ' . $e->getMessage());\n",
    "        }\n",
    "    }\n",
    "}"
   ]
  },
  {
   "cell_type": "markdown",
   "id": "b964c19c",
   "metadata": {},
   "source": [
    "## Managing Products\n",
    "Examples of product management operations"
   ]
  },
  {
   "cell_type": "code",
   "execution_count": null,
   "id": "432a9a01",
   "metadata": {},
   "outputs": [],
   "source": [
    "def create_product(shop_id, product_data):\n",
    "    \"\"\"Create a new product in the specified shop\"\"\"\n",
    "    response = requests.post(\n",
    "        f\"{BASE_URL}/shops/{shop_id}/products\",\n",
    "        headers=headers,\n",
    "        json=product_data\n",
    "    )\n",
    "    return response.json()\n",
    "\n",
    "def get_product(shop_id, product_id):\n",
    "    \"\"\"Retrieve a specific product\"\"\"\n",
    "    response = requests.get(\n",
    "        f\"{BASE_URL}/shops/{shop_id}/products/{product_id}\",\n",
    "        headers=headers\n",
    "    )\n",
    "    return response.json()"
   ]
  },
  {
   "cell_type": "markdown",
   "id": "410dd474",
   "metadata": {},
   "source": [
    "## Order Management\n",
    "Methods for handling order synchronization"
   ]
  },
  {
   "cell_type": "code",
   "execution_count": null,
   "id": "e0b242a8",
   "metadata": {
    "vscode": {
     "languageId": "php"
    }
   },
   "outputs": [],
   "source": [
    "function createPrintifyOrder($client, $shopId, $wcOrder) {\n",
    "    $orderData = [\n",
    "        'external_id' => $wcOrder->get_id(),\n",
    "        'line_items' => array_map(function($item) {\n",
    "            return [\n",
    "                'product_id' => get_post_meta($item->get_product_id(), '_printify_product_id', true),\n",
    "                'variant_id' => get_post_meta($item->get_variation_id(), '_printify_variant_id', true),\n",
    "                'quantity' => $item->get_quantity()\n",
    "            ];\n",
    "        }, $wcOrder->get_items()),\n",
    "        'shipping_method' => 1,\n",
    "        'shipping_address' => [\n",
    "            'first_name' => $wcOrder->get_shipping_first_name(),\n",
    "            'last_name' => $wcOrder->get_shipping_last_name(),\n",
    "            'address1' => $wcOrder->get_shipping_address_1(),\n",
    "            'address2' => $wcOrder->get_shipping_address_2(),\n",
    "            'city' => $wcOrder->get_shipping_city(),\n",
    "            'state' => $wcOrder->get_shipping_state(),\n",
    "            'country' => $wcOrder->get_shipping_country(),\n",
    "            'zip' => $wcOrder->get_shipping_postcode(),\n",
    "            'email' => $wcOrder->get_billing_email(),\n",
    "            'phone' => $wcOrder->get_billing_phone()\n",
    "        ]\n",
    "    ];\n",
    "\n",
    "    try {\n",
    "        $response = $client->post(\"shops/{$shopId}/orders.json\", [\n",
    "            'json' => $orderData\n",
    "        ]);\n",
    "        return json_decode($response->getBody()->getContents(), true);\n",
    "    } catch (GuzzleException $e) {\n",
    "        throw new Exception('Failed to create Printify order: ' . $e->getMessage());\n",
    "    }\n",
    "}\n",
    "\n",
    "function syncOrderStatus($client, $shopId, $orderId, $status) {\n",
    "    try {\n",
    "        $response = $client->post(\"shops/{$shopId}/orders/{$orderId}/status.json\", [\n",
    "            'json' => ['status' => $status]\n",
    "        ]);\n",
    "        return json_decode($response->getBody()->getContents(), true);\n",
    "    } catch (GuzzleException $e) {\n",
    "        throw new Exception('Failed to update order status: ' . $e->getMessage());\n",
    "    }\n",
    "}"
   ]
  },
  {
   "cell_type": "markdown",
   "id": "8196ae2e",
   "metadata": {},
   "source": [
    "## Handling Orders\n",
    "Examples of order management functionality"
   ]
  },
  {
   "cell_type": "code",
   "execution_count": null,
   "id": "c5a04ea3",
   "metadata": {},
   "outputs": [],
   "source": [
    "def get_orders(shop_id):\n",
    "    \"\"\"Retrieve all orders for a shop\"\"\"\n",
    "    response = requests.get(\n",
    "        f\"{BASE_URL}/shops/{shop_id}/orders\",\n",
    "        headers=headers\n",
    "    )\n",
    "    return response.json()\n",
    "\n",
    "def create_order(shop_id, order_data):\n",
    "    \"\"\"Create a new order\"\"\"\n",
    "    response = requests.post(\n",
    "        f\"{BASE_URL}/shops/{shop_id}/orders\",\n",
    "        headers=headers,\n",
    "        json=order_data\n",
    "    )\n",
    "    return response.json()"
   ]
  },
  {
   "cell_type": "markdown",
   "id": "b0fd5830",
   "metadata": {},
   "source": [
    "## Shipping Profile Management\n",
    "Methods for managing shipping profiles and rates"
   ]
  },
  {
   "cell_type": "code",
   "execution_count": null,
   "id": "dfbb475e",
   "metadata": {
    "vscode": {
     "languageId": "php"
    }
   },
   "outputs": [],
   "source": [
    "function getShippingProfiles($client, $shopId) {\n",
    "    try {\n",
    "        $response = $client->get(\"shops/{$shopId}/shipping.json\");\n",
    "        return json_decode($response->getBody()->getContents(), true);\n",
    "    } catch (GuzzleException $e) {\n",
    "        throw new Exception('Failed to fetch shipping profiles: ' . $e->getMessage());\n",
    "    }\n",
    "}\n",
    "\n",
    "function updateShippingProfile($client, $shopId, $profileId, $profileData) {\n",
    "    try {\n",
    "        $response = $client->put(\"shops/{$shopId}/shipping/{$profileId}.json\", [\n",
    "            'json' => $profileData\n",
    "        ]);\n",
    "        return json_decode($response->getBody()->getContents(), true);\n",
    "    } catch (GuzzleException $e) {\n",
    "        throw new Exception('Failed to update shipping profile: ' . $e->getMessage());\n",
    "    }\n",
    "}"
   ]
  },
  {
   "cell_type": "markdown",
   "id": "86b03320",
   "metadata": {},
   "source": [
    "## Webhooks Integration\n",
    "Examples of webhook management"
   ]
  },
  {
   "cell_type": "code",
   "execution_count": null,
   "id": "0135414c",
   "metadata": {},
   "outputs": [],
   "source": [
    "def create_webhook(shop_id, webhook_data):\n",
    "    \"\"\"Create a new webhook subscription\"\"\"\n",
    "    response = requests.post(\n",
    "        f\"{BASE_URL}/shops/{shop_id}/webhooks\",\n",
    "        headers=headers,\n",
    "        json=webhook_data\n",
    "    )\n",
    "    return response.json()\n",
    "\n",
    "def list_webhooks(shop_id):\n",
    "    \"\"\"List all webhooks for a shop\"\"\"\n",
    "    response = requests.get(\n",
    "        f\"{BASE_URL}/shops/{shop_id}/webhooks\",\n",
    "        headers=headers\n",
    "    )\n",
    "    return response.json()"
   ]
  },
  {
   "cell_type": "markdown",
   "id": "7ff05d20",
   "metadata": {},
   "source": [
    "## Example Usage\n",
    "Examples of using the above methods"
   ]
  },
  {
   "cell_type": "code",
   "execution_count": null,
   "id": "badbdccc",
   "metadata": {
    "vscode": {
     "languageId": "php"
    }
   },
   "outputs": [],
   "source": [
    "// Example: Sync all products\n",
    "try {\n",
    "    $products = getAllProducts($client, $shopId);\n",
    "    foreach ($products as $product) {\n",
    "        $wcProduct = importProductToWooCommerce($client, $shopId, $product);\n",
    "        if ($wcProduct) {\n",
    "            syncProductVariants($client, $shopId, $product['id'], $product['variants']);\n",
    "        }\n",
    "    }\n",
    "} catch (Exception $e) {\n",
    "    error_log('Product sync failed: ' . $e->getMessage());\n",
    "}\n",
    "\n",
    "// Example: Create Printify order from WooCommerce order\n",
    "try {\n",
    "    $wcOrder = wc_get_order(123);\n",
    "    $printifyOrder = createPrintifyOrder($client, $shopId, $wcOrder);\n",
    "    update_post_meta($wcOrder->get_id(), '_printify_order_id', $printifyOrder['id']);\n",
    "} catch (Exception $e) {\n",
    "    error_log('Order creation failed: ' . $e->getMessage());\n",
    "}"
   ]
  },
  {
   "cell_type": "code",
   "execution_count": null,
   "id": "0c9d6e76",
   "metadata": {},
   "outputs": [],
   "source": [
    "# Example: List all shops\n",
    "shops = get_shops()\n",
    "print(\"Shops:\", json.dumps(shops, indent=2))\n",
    "\n",
    "# Example: Create a webhook\n",
    "webhook_data = {\n",
    "    \"topic\": \"order:created\",\n",
    "    \"url\": \"https://your-site.com/webhook/printify\"\n",
    "}\n",
    "# Uncomment to test with actual shop_id\n",
    "# result = create_webhook(\"your_shop_id\", webhook_data)\n",
    "# print(\"Webhook created:\", json.dumps(result, indent=2))"
   ]
  },
  {
   "cell_type": "markdown",
   "id": "0d5ca944",
   "metadata": {},
   "source": [
    "## Error Handling and Retries\n",
    "Implementing robust error handling and retry logic"
   ]
  },
  {
   "cell_type": "code",
   "execution_count": null,
   "id": "5412008c",
   "metadata": {
    "vscode": {
     "languageId": "php"
    }
   },
   "outputs": [],
   "source": [
    "function withRetry(callable $operation, $maxRetries = 3) {\n",
    "    $attempts = 0;\n",
    "    $lastException = null;\n",
    "\n",
    "    while ($attempts < $maxRetries) {\n",
    "        try {\n",
    "            return $operation();\n",
    "        } catch (GuzzleException $e) {\n",
    "            $lastException = $e;\n",
    "            $attempts++;\n",
    "            \n",
    "            if ($e->getCode() === 429) { // Rate limit hit\n",
    "                $waitTime = $e->getResponse()->getHeaderLine('Retry-After') ?: 60;\n",
    "                sleep((int)$waitTime);\n",
    "                continue;\n",
    "            }\n",
    "\n",
    "            if ($attempts === $maxRetries) {\n",
    "                throw $e;\n",
    "            }\n",
    "\n",
    "            sleep(pow(2, $attempts)); // Exponential backoff\n",
    "        }\n",
    "    }\n",
    "    \n",
    "    throw $lastException;\n",
    "}"
   ]
  },
  {
   "cell_type": "markdown",
   "id": "9206881b",
   "metadata": {},
   "source": [
    "## Batch Processing\n",
    "Processing large numbers of products efficiently"
   ]
  },
  {
   "cell_type": "code",
   "execution_count": null,
   "id": "f920c170",
   "metadata": {
    "vscode": {
     "languageId": "php"
    }
   },
   "outputs": [],
   "source": [
    "function batchProcessProducts($client, $shopId, $batchSize = 10) {\n",
    "    $page = 1;\n",
    "    $processed = 0;\n",
    "\n",
    "    do {\n",
    "        $products = withRetry(function() use ($client, $shopId, $page) {\n",
    "            $response = $client->get(\"shops/{$shopId}/products.json\", [\n",
    "                'query' => ['page' => $page, 'limit' => $batchSize]\n",
    "            ]);\n",
    "            return json_decode($response->getBody()->getContents(), true);\n",
    "        });\n",
    "\n",
    "        foreach ($products['data'] as $product) {\n",
    "            withRetry(function() use ($client, $shopId, $product) {\n",
    "                importProductToWooCommerce($client, $shopId, $product);\n",
    "            });\n",
    "            $processed++;\n",
    "        }\n",
    "\n",
    "        $page++;\n",
    "        \n",
    "    } while (count($products['data']) === $batchSize);\n",
    "\n",
    "    return $processed;\n",
    "}"
   ]
  },
  {
   "cell_type": "markdown",
   "id": "1b8e14dd",
   "metadata": {},
   "source": [
    "## Secure Webhook Handling\n",
    "Implementing webhook signature verification"
   ]
  },
  {
   "cell_type": "code",
   "execution_count": null,
   "id": "580f9d83",
   "metadata": {
    "vscode": {
     "languageId": "php"
    }
   },
   "outputs": [],
   "source": [
    "function verifyWebhookSignature($payload, $signature, $secret) {\n",
    "    $calculatedSignature = hash_hmac('sha256', $payload, $secret);\n",
    "    return hash_equals($calculatedSignature, $signature);\n",
    "}\n",
    "\n",
    "function handleWebhook() {\n",
    "    $payload = file_get_contents('php://input');\n",
    "    $signature = $_SERVER['HTTP_X_PRINTIFY_SIGNATURE'] ?? '';\n",
    "    $secret = get_option('printify_webhook_secret');\n",
    "\n",
    "    if (!verifyWebhookSignature($payload, $signature, $secret)) {\n",
    "        http_response_code(401);\n",
    "        die('Invalid signature');\n",
    "    }\n",
    "\n",
    "    $event = json_decode($payload, true);\n",
    "    switch ($event['type']) {\n",
    "        case 'order.created':\n",
    "            handleOrderCreated($event['data']);\n",
    "            break;\n",
    "        case 'order.status_changed':\n",
    "            handleOrderStatusChanged($event['data']);\n",
    "            break;\n",
    "    }\n",
    "\n",
    "    http_response_code(200);\n",
    "    echo json_encode(['status' => 'success']);\n",
    "}"
   ]
  },
  {
   "cell_type": "markdown",
   "id": "0979e301",
   "metadata": {},
   "source": [
    "## Usage Examples\n",
    "Examples of using the enhanced functionality"
   ]
  },
  {
   "cell_type": "code",
   "execution_count": null,
   "id": "56bff3d1",
   "metadata": {
    "vscode": {
     "languageId": "php"
    }
   },
   "outputs": [],
   "source": [
    "// Example: Batch process products with retry logic\n",
    "try {\n",
    "    $processed = batchProcessProducts($client, $shopId);\n",
    "    echo \"Successfully processed {$processed} products\\n\";\n",
    "} catch (Exception $e) {\n",
    "    error_log('Batch processing failed: ' . $e->getMessage());\n",
    "}\n",
    "\n",
    "// Example: Use retry wrapper for API calls\n",
    "try {\n",
    "    $order = withRetry(function() use ($client, $shopId, $orderId) {\n",
    "        return createPrintifyOrder($client, $shopId, $orderId);\n",
    "    });\n",
    "    echo \"Order created successfully\\n\";\n",
    "} catch (Exception $e) {\n",
    "    error_log('Order creation failed after retries: ' . $e->getMessage());\n",
    "}"
   ]
  }
 ],
 "metadata": {
  "language_info": {
   "name": "python"
  }
 },
 "nbformat": 4,
 "nbformat_minor": 5
}
